{
 "cells": [
  {
   "cell_type": "code",
   "execution_count": 291,
   "metadata": {},
   "outputs": [],
   "source": [
    "import pandas as pd\n",
    "import numpy as np\n",
    "from scipy import stats\n",
    "from rpy2.robjects import r\n",
    "from scipy.stats import chi2_contingency\n",
    "from scipy.stats import chi2\n",
    "import matplotlib.pyplot as plt\n",
    "%matplotlib inline"
   ]
  },
  {
   "cell_type": "markdown",
   "metadata": {},
   "source": [
    "## Is there a \"hot hand\" effect in basketball?\n",
    "\n",
    "Is a player that gets a single shot in more likely to get their next shot in? Is hitting a shot dependent on previously having hit a shot?\n",
    "\n",
    "Let's explore the hot hand streaks with some of Kobe Bryant's shot data."
   ]
  },
  {
   "cell_type": "markdown",
   "metadata": {},
   "source": [
    "### The Data"
   ]
  },
  {
   "cell_type": "markdown",
   "metadata": {},
   "source": [
    "[Based off this probability lab from Coursera's Stats With R course](https://github.com/StatsWithR/labs/blob/master/1.3_probability/probability.Rmd)"
   ]
  },
  {
   "cell_type": "markdown",
   "metadata": {},
   "source": [
    "Kobe's shots per game in the LAL v. Orlando 2009 playoff series:"
   ]
  },
  {
   "cell_type": "code",
   "execution_count": 136,
   "metadata": {},
   "outputs": [
    {
     "data": {
      "text/html": [
       "<div>\n",
       "<style scoped>\n",
       "    .dataframe tbody tr th:only-of-type {\n",
       "        vertical-align: middle;\n",
       "    }\n",
       "\n",
       "    .dataframe tbody tr th {\n",
       "        vertical-align: top;\n",
       "    }\n",
       "\n",
       "    .dataframe thead th {\n",
       "        text-align: right;\n",
       "    }\n",
       "</style>\n",
       "<table border=\"1\" class=\"dataframe\">\n",
       "  <thead>\n",
       "    <tr style=\"text-align: right;\">\n",
       "      <th></th>\n",
       "      <th>Unnamed: 0</th>\n",
       "      <th>vs</th>\n",
       "      <th>game</th>\n",
       "      <th>quarter</th>\n",
       "      <th>time</th>\n",
       "      <th>description</th>\n",
       "      <th>shot</th>\n",
       "    </tr>\n",
       "  </thead>\n",
       "  <tbody>\n",
       "    <tr>\n",
       "      <th>0</th>\n",
       "      <td>1</td>\n",
       "      <td>ORL</td>\n",
       "      <td>1</td>\n",
       "      <td>1</td>\n",
       "      <td>9:47</td>\n",
       "      <td>Kobe Bryant makes 4-foot two point shot</td>\n",
       "      <td>H</td>\n",
       "    </tr>\n",
       "    <tr>\n",
       "      <th>1</th>\n",
       "      <td>2</td>\n",
       "      <td>ORL</td>\n",
       "      <td>1</td>\n",
       "      <td>1</td>\n",
       "      <td>9:07</td>\n",
       "      <td>Kobe Bryant misses jumper</td>\n",
       "      <td>M</td>\n",
       "    </tr>\n",
       "    <tr>\n",
       "      <th>2</th>\n",
       "      <td>3</td>\n",
       "      <td>ORL</td>\n",
       "      <td>1</td>\n",
       "      <td>1</td>\n",
       "      <td>8:11</td>\n",
       "      <td>Kobe Bryant misses 7-foot jumper</td>\n",
       "      <td>M</td>\n",
       "    </tr>\n",
       "    <tr>\n",
       "      <th>3</th>\n",
       "      <td>4</td>\n",
       "      <td>ORL</td>\n",
       "      <td>1</td>\n",
       "      <td>1</td>\n",
       "      <td>7:41</td>\n",
       "      <td>Kobe Bryant makes 16-foot jumper (Derek Fisher...</td>\n",
       "      <td>H</td>\n",
       "    </tr>\n",
       "    <tr>\n",
       "      <th>4</th>\n",
       "      <td>5</td>\n",
       "      <td>ORL</td>\n",
       "      <td>1</td>\n",
       "      <td>1</td>\n",
       "      <td>7:03</td>\n",
       "      <td>Kobe Bryant makes driving layup</td>\n",
       "      <td>H</td>\n",
       "    </tr>\n",
       "    <tr>\n",
       "      <th>5</th>\n",
       "      <td>6</td>\n",
       "      <td>ORL</td>\n",
       "      <td>1</td>\n",
       "      <td>1</td>\n",
       "      <td>6:01</td>\n",
       "      <td>Kobe Bryant misses jumper</td>\n",
       "      <td>M</td>\n",
       "    </tr>\n",
       "    <tr>\n",
       "      <th>6</th>\n",
       "      <td>7</td>\n",
       "      <td>ORL</td>\n",
       "      <td>1</td>\n",
       "      <td>1</td>\n",
       "      <td>4:07</td>\n",
       "      <td>Kobe Bryant misses 12-foot jumper</td>\n",
       "      <td>M</td>\n",
       "    </tr>\n",
       "    <tr>\n",
       "      <th>7</th>\n",
       "      <td>8</td>\n",
       "      <td>ORL</td>\n",
       "      <td>1</td>\n",
       "      <td>1</td>\n",
       "      <td>0:52</td>\n",
       "      <td>Kobe Bryant misses 19-foot jumper</td>\n",
       "      <td>M</td>\n",
       "    </tr>\n",
       "    <tr>\n",
       "      <th>8</th>\n",
       "      <td>9</td>\n",
       "      <td>ORL</td>\n",
       "      <td>1</td>\n",
       "      <td>1</td>\n",
       "      <td>0:00</td>\n",
       "      <td>Kobe Bryant misses layup</td>\n",
       "      <td>M</td>\n",
       "    </tr>\n",
       "    <tr>\n",
       "      <th>9</th>\n",
       "      <td>10</td>\n",
       "      <td>ORL</td>\n",
       "      <td>1</td>\n",
       "      <td>2</td>\n",
       "      <td>6:35</td>\n",
       "      <td>Kobe Bryant makes jumper</td>\n",
       "      <td>H</td>\n",
       "    </tr>\n",
       "    <tr>\n",
       "      <th>10</th>\n",
       "      <td>11</td>\n",
       "      <td>ORL</td>\n",
       "      <td>1</td>\n",
       "      <td>2</td>\n",
       "      <td>5:58</td>\n",
       "      <td>Kobe Bryant makes 20-foot jumper</td>\n",
       "      <td>H</td>\n",
       "    </tr>\n",
       "    <tr>\n",
       "      <th>11</th>\n",
       "      <td>12</td>\n",
       "      <td>ORL</td>\n",
       "      <td>1</td>\n",
       "      <td>2</td>\n",
       "      <td>5:22</td>\n",
       "      <td>Kobe Bryant makes 14-foot jumper</td>\n",
       "      <td>H</td>\n",
       "    </tr>\n",
       "    <tr>\n",
       "      <th>12</th>\n",
       "      <td>13</td>\n",
       "      <td>ORL</td>\n",
       "      <td>1</td>\n",
       "      <td>2</td>\n",
       "      <td>4:37</td>\n",
       "      <td>Kobe Bryant misses driving layup</td>\n",
       "      <td>M</td>\n",
       "    </tr>\n",
       "    <tr>\n",
       "      <th>13</th>\n",
       "      <td>14</td>\n",
       "      <td>ORL</td>\n",
       "      <td>1</td>\n",
       "      <td>2</td>\n",
       "      <td>3:30</td>\n",
       "      <td>Kobe Bryant makes 9-foot two point shot</td>\n",
       "      <td>H</td>\n",
       "    </tr>\n",
       "    <tr>\n",
       "      <th>14</th>\n",
       "      <td>15</td>\n",
       "      <td>ORL</td>\n",
       "      <td>1</td>\n",
       "      <td>2</td>\n",
       "      <td>2:55</td>\n",
       "      <td>Kobe Bryant makes 14-foot running jumper</td>\n",
       "      <td>H</td>\n",
       "    </tr>\n",
       "  </tbody>\n",
       "</table>\n",
       "</div>"
      ],
      "text/plain": [
       "    Unnamed: 0   vs  game quarter  time  \\\n",
       "0            1  ORL     1       1  9:47   \n",
       "1            2  ORL     1       1  9:07   \n",
       "2            3  ORL     1       1  8:11   \n",
       "3            4  ORL     1       1  7:41   \n",
       "4            5  ORL     1       1  7:03   \n",
       "5            6  ORL     1       1  6:01   \n",
       "6            7  ORL     1       1  4:07   \n",
       "7            8  ORL     1       1  0:52   \n",
       "8            9  ORL     1       1  0:00   \n",
       "9           10  ORL     1       2  6:35   \n",
       "10          11  ORL     1       2  5:58   \n",
       "11          12  ORL     1       2  5:22   \n",
       "12          13  ORL     1       2  4:37   \n",
       "13          14  ORL     1       2  3:30   \n",
       "14          15  ORL     1       2  2:55   \n",
       "\n",
       "                                          description shot  \n",
       "0             Kobe Bryant makes 4-foot two point shot    H  \n",
       "1                           Kobe Bryant misses jumper    M  \n",
       "2                    Kobe Bryant misses 7-foot jumper    M  \n",
       "3   Kobe Bryant makes 16-foot jumper (Derek Fisher...    H  \n",
       "4                     Kobe Bryant makes driving layup    H  \n",
       "5                           Kobe Bryant misses jumper    M  \n",
       "6                   Kobe Bryant misses 12-foot jumper    M  \n",
       "7                   Kobe Bryant misses 19-foot jumper    M  \n",
       "8                            Kobe Bryant misses layup    M  \n",
       "9                            Kobe Bryant makes jumper    H  \n",
       "10                   Kobe Bryant makes 20-foot jumper    H  \n",
       "11                   Kobe Bryant makes 14-foot jumper    H  \n",
       "12                   Kobe Bryant misses driving layup    M  \n",
       "13            Kobe Bryant makes 9-foot two point shot    H  \n",
       "14           Kobe Bryant makes 14-foot running jumper    H  "
      ]
     },
     "execution_count": 136,
     "metadata": {},
     "output_type": "execute_result"
    }
   ],
   "source": [
    "data = pd.read_csv(\"data/kobe_hothand.csv\")\n",
    "data.head(15)"
   ]
  },
  {
   "cell_type": "markdown",
   "metadata": {},
   "source": [
    "We have 133 shots worth of data to evaluate, with 75 shots missed and 58 shots made. These shots come from a playoff series with 5 games."
   ]
  },
  {
   "cell_type": "code",
   "execution_count": 68,
   "metadata": {
    "scrolled": true
   },
   "outputs": [
    {
     "data": {
      "text/html": [
       "<div>\n",
       "<style scoped>\n",
       "    .dataframe tbody tr th:only-of-type {\n",
       "        vertical-align: middle;\n",
       "    }\n",
       "\n",
       "    .dataframe tbody tr th {\n",
       "        vertical-align: top;\n",
       "    }\n",
       "\n",
       "    .dataframe thead th {\n",
       "        text-align: right;\n",
       "    }\n",
       "</style>\n",
       "<table border=\"1\" class=\"dataframe\">\n",
       "  <thead>\n",
       "    <tr style=\"text-align: right;\">\n",
       "      <th></th>\n",
       "      <th>M</th>\n",
       "      <th>H</th>\n",
       "    </tr>\n",
       "  </thead>\n",
       "  <tbody>\n",
       "    <tr>\n",
       "      <th>shot</th>\n",
       "      <td>75</td>\n",
       "      <td>58</td>\n",
       "    </tr>\n",
       "  </tbody>\n",
       "</table>\n",
       "</div>"
      ],
      "text/plain": [
       "       M   H\n",
       "shot  75  58"
      ]
     },
     "execution_count": 68,
     "metadata": {},
     "output_type": "execute_result"
    }
   ],
   "source": [
    "pd.DataFrame(data.shot.value_counts()).T"
   ]
  },
  {
   "cell_type": "code",
   "execution_count": 69,
   "metadata": {},
   "outputs": [
    {
     "data": {
      "text/plain": [
       "(133, 7)"
      ]
     },
     "execution_count": 69,
     "metadata": {},
     "output_type": "execute_result"
    }
   ],
   "source": [
    "data.shape"
   ]
  },
  {
   "cell_type": "code",
   "execution_count": 70,
   "metadata": {
    "scrolled": false
   },
   "outputs": [
    {
     "data": {
      "text/html": [
       "<div>\n",
       "<style scoped>\n",
       "    .dataframe tbody tr th:only-of-type {\n",
       "        vertical-align: middle;\n",
       "    }\n",
       "\n",
       "    .dataframe tbody tr th {\n",
       "        vertical-align: top;\n",
       "    }\n",
       "\n",
       "    .dataframe thead th {\n",
       "        text-align: right;\n",
       "    }\n",
       "</style>\n",
       "<table border=\"1\" class=\"dataframe\">\n",
       "  <thead>\n",
       "    <tr style=\"text-align: right;\">\n",
       "      <th></th>\n",
       "      <th>1</th>\n",
       "      <th>2</th>\n",
       "      <th>3</th>\n",
       "      <th>4</th>\n",
       "      <th>5</th>\n",
       "    </tr>\n",
       "  </thead>\n",
       "  <tbody>\n",
       "    <tr>\n",
       "      <th>shots_per_game</th>\n",
       "      <td>34</td>\n",
       "      <td>21</td>\n",
       "      <td>25</td>\n",
       "      <td>30</td>\n",
       "      <td>23</td>\n",
       "    </tr>\n",
       "  </tbody>\n",
       "</table>\n",
       "</div>"
      ],
      "text/plain": [
       "                 1   2   3   4   5\n",
       "shots_per_game  34  21  25  30  23"
      ]
     },
     "execution_count": 70,
     "metadata": {},
     "output_type": "execute_result"
    }
   ],
   "source": [
    "shots_game= pd.DataFrame(data.game.value_counts().sort_index())\n",
    "shots_game.columns = [\"shots_per_game\"]\n",
    "shots_game.T"
   ]
  },
  {
   "cell_type": "markdown",
   "metadata": {},
   "source": [
    "On average, Kobe's average shots made for this series is:"
   ]
  },
  {
   "cell_type": "code",
   "execution_count": 71,
   "metadata": {},
   "outputs": [
    {
     "data": {
      "text/plain": [
       "0.43609022556390975"
      ]
     },
     "execution_count": 71,
     "metadata": {},
     "output_type": "execute_result"
    }
   ],
   "source": [
    "shots_made_avg = 58/133\n",
    "shots_made_avg"
   ]
  },
  {
   "cell_type": "markdown",
   "metadata": {},
   "source": [
    "This is probably a good place to note that we're looking at all types of different shots (layups, jumpers, shots with different distances, etc). This could potentially be something to come back and consider in terms of confounders but for now we'll table this and move forward with exploring our shot data."
   ]
  },
  {
   "cell_type": "markdown",
   "metadata": {},
   "source": [
    "### Finding Streaks"
   ]
  },
  {
   "cell_type": "markdown",
   "metadata": {},
   "source": [
    "The idea here is to loop through Kobe's 133 shots and find sets of consecutive shots. "
   ]
  },
  {
   "cell_type": "code",
   "execution_count": 72,
   "metadata": {},
   "outputs": [],
   "source": [
    "# defining a streak calculator function based off this excercise:\n",
    "# https://github.com/StatsWithR/labs/blob/master/1.3_probability/probability.Rmd\n",
    "\n",
    "def calc_streak(data):\n",
    "    \n",
    "    streak = []\n",
    "    count = 0\n",
    "    \n",
    "    for shot in data:\n",
    "        \n",
    "        if shot == \"H\":\n",
    "            count +=1\n",
    "            \n",
    "        elif shot == \"M\":\n",
    "            streak.append(count)\n",
    "            count = 0\n",
    "            \n",
    "    return streak"
   ]
  },
  {
   "cell_type": "markdown",
   "metadata": {},
   "source": [
    "#### Kobe's shot streaks throughout the series"
   ]
  },
  {
   "cell_type": "code",
   "execution_count": 73,
   "metadata": {},
   "outputs": [],
   "source": [
    "kobe_streak = calc_streak(data['shot'])"
   ]
  },
  {
   "cell_type": "code",
   "execution_count": 78,
   "metadata": {
    "scrolled": true
   },
   "outputs": [],
   "source": [
    "kobe_streak = pd.DataFrame(kobe_streak, columns=[\"streaks\"])"
   ]
  },
  {
   "cell_type": "code",
   "execution_count": 149,
   "metadata": {},
   "outputs": [
    {
     "data": {
      "image/png": "[encoded data removed]",
      "text/plain": [
       "<Figure size 432x288 with 1 Axes>"
      ]
     },
     "metadata": {},
     "output_type": "display_data"
    }
   ],
   "source": [
    "plt.hist(kobe_streak.streaks, bins=5, edgecolor='orange', linewidth=1, color=\"purple\")\n",
    "plt.xticks(range(0,5))\n",
    "plt.title(\"Kobe Bryant's Streak Distribution\")\n",
    "plt.show()"
   ]
  },
  {
   "cell_type": "code",
   "execution_count": 14,
   "metadata": {},
   "outputs": [
    {
     "data": {
      "text/html": [
       "<div>\n",
       "<style scoped>\n",
       "    .dataframe tbody tr th:only-of-type {\n",
       "        vertical-align: middle;\n",
       "    }\n",
       "\n",
       "    .dataframe tbody tr th {\n",
       "        vertical-align: top;\n",
       "    }\n",
       "\n",
       "    .dataframe thead th {\n",
       "        text-align: right;\n",
       "    }\n",
       "</style>\n",
       "<table border=\"1\" class=\"dataframe\">\n",
       "  <thead>\n",
       "    <tr style=\"text-align: right;\">\n",
       "      <th></th>\n",
       "      <th>0</th>\n",
       "      <th>1</th>\n",
       "      <th>2</th>\n",
       "      <th>3</th>\n",
       "      <th>4</th>\n",
       "    </tr>\n",
       "  </thead>\n",
       "  <tbody>\n",
       "    <tr>\n",
       "      <th>streaks</th>\n",
       "      <td>39</td>\n",
       "      <td>23</td>\n",
       "      <td>6</td>\n",
       "      <td>6</td>\n",
       "      <td>1</td>\n",
       "    </tr>\n",
       "  </tbody>\n",
       "</table>\n",
       "</div>"
      ],
      "text/plain": [
       "          0   1  2  3  4\n",
       "streaks  39  23  6  6  1"
      ]
     },
     "execution_count": 14,
     "metadata": {},
     "output_type": "execute_result"
    }
   ],
   "source": [
    "kobe_streak_summary = pd.DataFrame(kobe_streak.streaks.value_counts().sort_index()).T\n",
    "kobe_streak_summary"
   ]
  },
  {
   "cell_type": "markdown",
   "metadata": {},
   "source": [
    "In this series, Kobe had 6 x 2-shot streaks, 6 x 3-shot streaks, and 1 x 4-shot streaks. \n",
    "\n",
    "At this moment, I'm not as interested in missed shot streaks (or cold hand streaks) and 1-shot streaks. Though this is definitely something that could be explored further."
   ]
  },
  {
   "cell_type": "markdown",
   "metadata": {},
   "source": [
    "### Is Kobe's streak distribution special?"
   ]
  },
  {
   "cell_type": "markdown",
   "metadata": {},
   "source": [
    "... If we randomly generate 133 _independant_ shots, with the same rate of success as Kobe (for this playoff series at least)-- what kind of distribution do we see?"
   ]
  },
  {
   "cell_type": "markdown",
   "metadata": {},
   "source": [
    "The interesting thing to keep in mind here with our simulated data is that we'll be looking at shot streak distributions of randomly generated _independent_ shots.    \n",
    "\n",
    "The idea here is to examine what shot streaks look like for independent shots, and compare this with Kobe's shots.   \n",
    "\n",
    "If our simulated streak distribution looks the same as Kobe's streak distribution, we can argue that this weakens the argument for the 'hot hand' theory."
   ]
  },
  {
   "cell_type": "markdown",
   "metadata": {},
   "source": [
    "#### Simulating a random player's streak\n",
    "\n",
    "To simulate shot streaks, we'll first simulate 133 independent shots from a binomial distribution with the probability for a succesful shot being the same as Kobe's average success rate for this particular series.\n",
    "\n",
    "Once we have a set of 133 simulated shots from our binomial distribution of choice, we can find streaks and plot our distribution of streaks."
   ]
  },
  {
   "cell_type": "code",
   "execution_count": 80,
   "metadata": {},
   "outputs": [
    {
     "data": {
      "text/plain": [
       "0.44"
      ]
     },
     "execution_count": 80,
     "metadata": {},
     "output_type": "execute_result"
    }
   ],
   "source": [
    "#just a reminder of Kobe's avg success rate for this data set:\n",
    "round(shots_made_avg,2)"
   ]
  },
  {
   "cell_type": "code",
   "execution_count": 88,
   "metadata": {},
   "outputs": [],
   "source": [
    "#generating a set of 133 independent shots from a binomial distribution\n",
    "\n",
    "n = 1 #1 shot per trial\n",
    "p = shots_made_avg #success rate\n",
    "trials = 133 #nubmer of trials\n",
    "\n",
    "player_1 = np.random.binomial(n,p,trials)"
   ]
  },
  {
   "cell_type": "code",
   "execution_count": 89,
   "metadata": {},
   "outputs": [],
   "source": [
    "#cleaning our shot set to make it comparable with our Kobe data\n",
    "# 1 is a 'Hit' and 0 is a 'Miss'\n",
    "\n",
    "player_1 = list(player_1)\n",
    "\n",
    "for j in range(len(player_1)):\n",
    "    if player_1[j] == 1:\n",
    "        player_1[j] =\"H\"\n",
    "    else:\n",
    "        player_1[j] = \"M\""
   ]
  },
  {
   "cell_type": "code",
   "execution_count": 90,
   "metadata": {},
   "outputs": [],
   "source": [
    "player_1_streak = calc_streak(player_1)\n",
    "player_1_streak = pd.DataFrame(player_1_streak, columns=[\"streaks\"])"
   ]
  },
  {
   "cell_type": "code",
   "execution_count": 150,
   "metadata": {},
   "outputs": [
    {
     "data": {
      "image/png": "[encoded data removed]",
      "text/plain": [
       "<Figure size 432x288 with 1 Axes>"
      ]
     },
     "metadata": {},
     "output_type": "display_data"
    }
   ],
   "source": [
    "plt.hist(player_1_streak.streaks, bins=5, edgecolor='orange', linewidth=1, color=\"purple\")\n",
    "plt.xticks(range(0,5))\n",
    "plt.title(\"Simulated Streak Distribution for Random Player\")\n",
    "plt.show()"
   ]
  },
  {
   "cell_type": "code",
   "execution_count": 92,
   "metadata": {},
   "outputs": [
    {
     "data": {
      "text/html": [
       "<div>\n",
       "<style scoped>\n",
       "    .dataframe tbody tr th:only-of-type {\n",
       "        vertical-align: middle;\n",
       "    }\n",
       "\n",
       "    .dataframe tbody tr th {\n",
       "        vertical-align: top;\n",
       "    }\n",
       "\n",
       "    .dataframe thead th {\n",
       "        text-align: right;\n",
       "    }\n",
       "</style>\n",
       "<table border=\"1\" class=\"dataframe\">\n",
       "  <thead>\n",
       "    <tr style=\"text-align: right;\">\n",
       "      <th></th>\n",
       "      <th>0</th>\n",
       "      <th>1</th>\n",
       "      <th>2</th>\n",
       "      <th>3</th>\n",
       "      <th>5</th>\n",
       "      <th>6</th>\n",
       "    </tr>\n",
       "  </thead>\n",
       "  <tbody>\n",
       "    <tr>\n",
       "      <th>streaks</th>\n",
       "      <td>47</td>\n",
       "      <td>20</td>\n",
       "      <td>7</td>\n",
       "      <td>3</td>\n",
       "      <td>1</td>\n",
       "      <td>1</td>\n",
       "    </tr>\n",
       "  </tbody>\n",
       "</table>\n",
       "</div>"
      ],
      "text/plain": [
       "          0   1  2  3  5  6\n",
       "streaks  47  20  7  3  1  1"
      ]
     },
     "execution_count": 92,
     "metadata": {},
     "output_type": "execute_result"
    }
   ],
   "source": [
    "pd.DataFrame(player_1_streak.streaks.value_counts().sort_index()).T"
   ]
  },
  {
   "cell_type": "markdown",
   "metadata": {},
   "source": [
    "Our Random Player's streak distribution looks sort of similar to Kobe's streak distribution. Both streak distributions are skewed left."
   ]
  },
  {
   "cell_type": "markdown",
   "metadata": {},
   "source": [
    "...\n",
    "Does this change if we simulate 1,000 random players' streaks?"
   ]
  },
  {
   "cell_type": "markdown",
   "metadata": {},
   "source": [
    "#### Simulating 1,000 random players' streaks\n",
    "\n",
    "Using the same simulation setup as above but this time for 1,000 random Kobe-like players:"
   ]
  },
  {
   "cell_type": "code",
   "execution_count": 299,
   "metadata": {},
   "outputs": [],
   "source": [
    "sims = []\n",
    "\n",
    "for player in range(1000):\n",
    "    n = 1\n",
    "    p = shots_made_avg\n",
    "   \n",
    "    player_shots = np.random.binomial(n,p,133)\n",
    "    player_shots = list(player_shots)\n",
    "    \n",
    "    for j in range(len(player_shots)):\n",
    "        if player_shots[j] == 1:\n",
    "            player_shots[j] =\"H\"\n",
    "        else:\n",
    "            player_shots[j] = \"M\"\n",
    "    \n",
    "    player_streak = calc_streak(player_shots)\n",
    "    player_streak = pd.DataFrame(player_streak, columns=[\"streaks\"])\n",
    "    sims.append(dict(player_streak.streaks.value_counts().sort_index()))\n"
   ]
  },
  {
   "cell_type": "code",
   "execution_count": 300,
   "metadata": {},
   "outputs": [
    {
     "data": {
      "text/html": [
       "<div>\n",
       "<style scoped>\n",
       "    .dataframe tbody tr th:only-of-type {\n",
       "        vertical-align: middle;\n",
       "    }\n",
       "\n",
       "    .dataframe tbody tr th {\n",
       "        vertical-align: top;\n",
       "    }\n",
       "\n",
       "    .dataframe thead th {\n",
       "        text-align: right;\n",
       "    }\n",
       "</style>\n",
       "<table border=\"1\" class=\"dataframe\">\n",
       "  <thead>\n",
       "    <tr style=\"text-align: right;\">\n",
       "      <th></th>\n",
       "      <th>0</th>\n",
       "      <th>1</th>\n",
       "      <th>2</th>\n",
       "      <th>3</th>\n",
       "      <th>4</th>\n",
       "      <th>5</th>\n",
       "      <th>6</th>\n",
       "      <th>7</th>\n",
       "      <th>8</th>\n",
       "      <th>9</th>\n",
       "      <th>10</th>\n",
       "      <th>11</th>\n",
       "      <th>13</th>\n",
       "      <th>14</th>\n",
       "    </tr>\n",
       "  </thead>\n",
       "  <tbody>\n",
       "    <tr>\n",
       "      <th>0</th>\n",
       "      <td>45</td>\n",
       "      <td>14</td>\n",
       "      <td>9.0</td>\n",
       "      <td>7.0</td>\n",
       "      <td>1.0</td>\n",
       "      <td>0.0</td>\n",
       "      <td>0.0</td>\n",
       "      <td>0.0</td>\n",
       "      <td>0.0</td>\n",
       "      <td>0.0</td>\n",
       "      <td>0.0</td>\n",
       "      <td>0.0</td>\n",
       "      <td>0.0</td>\n",
       "      <td>0.0</td>\n",
       "    </tr>\n",
       "    <tr>\n",
       "      <th>1</th>\n",
       "      <td>46</td>\n",
       "      <td>20</td>\n",
       "      <td>9.0</td>\n",
       "      <td>1.0</td>\n",
       "      <td>0.0</td>\n",
       "      <td>0.0</td>\n",
       "      <td>1.0</td>\n",
       "      <td>0.0</td>\n",
       "      <td>1.0</td>\n",
       "      <td>0.0</td>\n",
       "      <td>0.0</td>\n",
       "      <td>0.0</td>\n",
       "      <td>0.0</td>\n",
       "      <td>0.0</td>\n",
       "    </tr>\n",
       "    <tr>\n",
       "      <th>2</th>\n",
       "      <td>50</td>\n",
       "      <td>21</td>\n",
       "      <td>4.0</td>\n",
       "      <td>4.0</td>\n",
       "      <td>0.0</td>\n",
       "      <td>2.0</td>\n",
       "      <td>0.0</td>\n",
       "      <td>0.0</td>\n",
       "      <td>0.0</td>\n",
       "      <td>0.0</td>\n",
       "      <td>0.0</td>\n",
       "      <td>0.0</td>\n",
       "      <td>0.0</td>\n",
       "      <td>0.0</td>\n",
       "    </tr>\n",
       "    <tr>\n",
       "      <th>3</th>\n",
       "      <td>45</td>\n",
       "      <td>14</td>\n",
       "      <td>6.0</td>\n",
       "      <td>2.0</td>\n",
       "      <td>3.0</td>\n",
       "      <td>0.0</td>\n",
       "      <td>1.0</td>\n",
       "      <td>0.0</td>\n",
       "      <td>0.0</td>\n",
       "      <td>1.0</td>\n",
       "      <td>0.0</td>\n",
       "      <td>0.0</td>\n",
       "      <td>0.0</td>\n",
       "      <td>0.0</td>\n",
       "    </tr>\n",
       "    <tr>\n",
       "      <th>4</th>\n",
       "      <td>50</td>\n",
       "      <td>17</td>\n",
       "      <td>9.0</td>\n",
       "      <td>4.0</td>\n",
       "      <td>1.0</td>\n",
       "      <td>0.0</td>\n",
       "      <td>0.0</td>\n",
       "      <td>0.0</td>\n",
       "      <td>0.0</td>\n",
       "      <td>0.0</td>\n",
       "      <td>0.0</td>\n",
       "      <td>0.0</td>\n",
       "      <td>0.0</td>\n",
       "      <td>0.0</td>\n",
       "    </tr>\n",
       "  </tbody>\n",
       "</table>\n",
       "</div>"
      ],
      "text/plain": [
       "   0   1    2    3    4    5    6    7    8    9    10   11   13   14\n",
       "0  45  14  9.0  7.0  1.0  0.0  0.0  0.0  0.0  0.0  0.0  0.0  0.0  0.0\n",
       "1  46  20  9.0  1.0  0.0  0.0  1.0  0.0  1.0  0.0  0.0  0.0  0.0  0.0\n",
       "2  50  21  4.0  4.0  0.0  2.0  0.0  0.0  0.0  0.0  0.0  0.0  0.0  0.0\n",
       "3  45  14  6.0  2.0  3.0  0.0  1.0  0.0  0.0  1.0  0.0  0.0  0.0  0.0\n",
       "4  50  17  9.0  4.0  1.0  0.0  0.0  0.0  0.0  0.0  0.0  0.0  0.0  0.0"
      ]
     },
     "execution_count": 300,
     "metadata": {},
     "output_type": "execute_result"
    }
   ],
   "source": [
    "#cleaning up our simulations and compiling them into one dataframe\n",
    "sims_df = pd.DataFrame(sims).fillna(0)\n",
    "\n",
    "#looking at the first 10 simulations\n",
    "sims_df.head()"
   ]
  },
  {
   "cell_type": "code",
   "execution_count": 301,
   "metadata": {},
   "outputs": [
    {
     "data": {
      "text/html": [
       "<div>\n",
       "<style scoped>\n",
       "    .dataframe tbody tr th:only-of-type {\n",
       "        vertical-align: middle;\n",
       "    }\n",
       "\n",
       "    .dataframe tbody tr th {\n",
       "        vertical-align: top;\n",
       "    }\n",
       "\n",
       "    .dataframe thead th {\n",
       "        text-align: right;\n",
       "    }\n",
       "</style>\n",
       "<table border=\"1\" class=\"dataframe\">\n",
       "  <thead>\n",
       "    <tr style=\"text-align: right;\">\n",
       "      <th></th>\n",
       "      <th>min</th>\n",
       "      <th>max</th>\n",
       "      <th>mean</th>\n",
       "      <th>median</th>\n",
       "      <th>std</th>\n",
       "    </tr>\n",
       "  </thead>\n",
       "  <tbody>\n",
       "    <tr>\n",
       "      <th>2</th>\n",
       "      <td>0.0</td>\n",
       "      <td>18.0</td>\n",
       "      <td>7.91</td>\n",
       "      <td>8.0</td>\n",
       "      <td>2.58</td>\n",
       "    </tr>\n",
       "    <tr>\n",
       "      <th>3</th>\n",
       "      <td>0.0</td>\n",
       "      <td>9.0</td>\n",
       "      <td>3.41</td>\n",
       "      <td>3.0</td>\n",
       "      <td>1.75</td>\n",
       "    </tr>\n",
       "    <tr>\n",
       "      <th>4</th>\n",
       "      <td>0.0</td>\n",
       "      <td>6.0</td>\n",
       "      <td>1.50</td>\n",
       "      <td>1.0</td>\n",
       "      <td>1.14</td>\n",
       "    </tr>\n",
       "  </tbody>\n",
       "</table>\n",
       "</div>"
      ],
      "text/plain": [
       "   min   max  mean  median   std\n",
       "2  0.0  18.0  7.91     8.0  2.58\n",
       "3  0.0   9.0  3.41     3.0  1.75\n",
       "4  0.0   6.0  1.50     1.0  1.14"
      ]
     },
     "execution_count": 301,
     "metadata": {},
     "output_type": "execute_result"
    }
   ],
   "source": [
    "#Getting some descriptive stats for our collection of 1k streaks\n",
    "sim_summary = sims_df.agg(['min', 'max', 'mean', 'median', 'std']).round(decimals=2).T\n",
    "\n",
    "#Looking only at 2-shot, 3-shot, and 4-shot streaks:\n",
    "sim_summary[2:5]"
   ]
  },
  {
   "cell_type": "code",
   "execution_count": 302,
   "metadata": {},
   "outputs": [
    {
     "data": {
      "text/plain": [
       "1.14"
      ]
     },
     "execution_count": 302,
     "metadata": {},
     "output_type": "execute_result"
    }
   ],
   "source": [
    "sim_summary[\"std\"][4]"
   ]
  },
  {
   "cell_type": "markdown",
   "metadata": {},
   "source": [
    "How do Kobe's streaks fare with the 1k shot streak simulations?"
   ]
  },
  {
   "cell_type": "code",
   "execution_count": 307,
   "metadata": {},
   "outputs": [
    {
     "data": {
      "image/png": "[encoded data removed]",
      "text/plain": [
       "<Figure size 432x288 with 1 Axes>"
      ]
     },
     "metadata": {},
     "output_type": "display_data"
    }
   ],
   "source": [
    "sims_df[4].hist(bins=5, edgecolor='black', linewidth=1, color='grey')\n",
    "plt.xticks(range(0,20))\n",
    "plt.grid()\n",
    "#Kobe's streak count\n",
    "plt.axvline(x=kobe_streak_summary[4]['Kobe_Streaks'], color='purple', label='Kobe: '+str(kobe_streak_summary[4]['Kobe_Streaks']))\n",
    "\n",
    "#Average\n",
    "plt.axvline(x=np.mean(sims_df[4]), color='orange', label='Avg Shooter: '+str(round(np.mean(sims_df[4]),2)))\n",
    "\n",
    "#conf. intervals\n",
    "plt.axvline(x=np.mean(sims_df[4])+sim_summary[\"std\"][4], color='orange', linestyle='-.', label\n",
    "            =\"1 Std Deviation\")\n",
    "plt.axvline(x=np.mean(sims_df[4])-sim_summary[\"std\"][4], color='orange', linestyle='-.')\n",
    "\n",
    "plt.title('Simulated Distribution of 4-shot Streaks vs. Kobe')\n",
    "plt.legend()\n",
    "plt.show()"
   ]
  },
  {
   "cell_type": "code",
   "execution_count": 308,
   "metadata": {},
   "outputs": [
    {
     "data": {
      "image/png": "[encoded data removed]",
      "text/plain": [
       "<Figure size 432x288 with 1 Axes>"
      ]
     },
     "metadata": {},
     "output_type": "display_data"
    }
   ],
   "source": [
    "sims_df[3].hist(bins=5, edgecolor='black', linewidth=1, color='grey')\n",
    "plt.xticks(range(0,20))\n",
    "plt.grid()\n",
    "plt.axvline(x=kobe_streak_summary[3]['Kobe_Streaks'], color='purple', label='Kobe: '+str(kobe_streak_summary[3]['Kobe_Streaks']))\n",
    "plt.axvline(x=np.mean(sims_df[3]), color='orange', label='Avg Shooter: '+str(round(np.mean(sims_df[3]), 2)))\n",
    "\n",
    "plt.axvline(x=np.mean(sims_df[3])+sim_summary[\"std\"][3], color='orange', linestyle='-.', label=\"1 Std. Deviation\")\n",
    "plt.axvline(x=np.mean(sims_df[3])-sim_summary[\"std\"][3], color='orange', linestyle='-.')\n",
    "\n",
    "plt.legend()\n",
    "plt.title('Simulated Distribution of 3-shot Streaks vs. Kobe')\n",
    "plt.show()"
   ]
  },
  {
   "cell_type": "markdown",
   "metadata": {},
   "source": [
    "Whoa-- does Kobe have a sweet spot for 3-shot streaks?"
   ]
  },
  {
   "cell_type": "code",
   "execution_count": 309,
   "metadata": {},
   "outputs": [
    {
     "data": {
      "image/png": "[encoded data removed]",
      "text/plain": [
       "<Figure size 432x288 with 1 Axes>"
      ]
     },
     "metadata": {},
     "output_type": "display_data"
    }
   ],
   "source": [
    "sims_df[2].hist(bins=5, edgecolor='black', linewidth=1, color='grey')\n",
    "plt.xticks(range(0,20))\n",
    "plt.grid()\n",
    "plt.axvline(x=kobe_streak_summary[2]['Kobe_Streaks'], color='purple', label='Kobe: '+str(kobe_streak_summary[2]['Kobe_Streaks']))\n",
    "plt.axvline(x=np.mean(sims_df[2]), color='orange', label='Avg Shooter: '+str(round(np.mean(sims_df[2]), 2)))\n",
    "\n",
    "plt.axvline(x=np.mean(sims_df[2])+sim_summary[\"std\"][2], color='orange', linestyle='-.', label='1 Std. Deviation')\n",
    "plt.axvline(x=np.mean(sims_df[2])-sim_summary[\"std\"][2], color='orange', linestyle='-.')\n",
    "\n",
    "plt.legend()\n",
    "plt.title('Simulated Distribution of 2-shot Streaks vs. Kobe')\n",
    "plt.show()"
   ]
  },
  {
   "cell_type": "markdown",
   "metadata": {},
   "source": [
    "_** TBC **"
   ]
  },
  {
   "cell_type": "markdown",
   "metadata": {},
   "source": [
    "#### Hypothesis Testing using the Chi-Squared Test\n",
    "\n",
    "Source: https://machinelearningmastery.com/chi-squared-test-for-machine-learning/\n",
    "\n",
    "... Perhaps we can do more rigourous testing using our simulations beyond comparing distributions.\n",
    "\n",
    "Null Hypothesis --  $H_0$: Streaks are random. There's no association between Kobe's awesome and streaks."
   ]
  },
  {
   "cell_type": "code",
   "execution_count": 340,
   "metadata": {},
   "outputs": [
    {
     "data": {
      "text/html": [
       "<div>\n",
       "<style scoped>\n",
       "    .dataframe tbody tr th:only-of-type {\n",
       "        vertical-align: middle;\n",
       "    }\n",
       "\n",
       "    .dataframe tbody tr th {\n",
       "        vertical-align: top;\n",
       "    }\n",
       "\n",
       "    .dataframe thead th {\n",
       "        text-align: right;\n",
       "    }\n",
       "</style>\n",
       "<table border=\"1\" class=\"dataframe\">\n",
       "  <thead>\n",
       "    <tr style=\"text-align: right;\">\n",
       "      <th></th>\n",
       "      <th>0</th>\n",
       "      <th>1</th>\n",
       "      <th>2</th>\n",
       "      <th>3</th>\n",
       "    </tr>\n",
       "  </thead>\n",
       "  <tbody>\n",
       "    <tr>\n",
       "      <th>Sims_Streaks</th>\n",
       "      <td>42699.0</td>\n",
       "      <td>18399.0</td>\n",
       "      <td>7909.0</td>\n",
       "      <td>3414.0</td>\n",
       "    </tr>\n",
       "  </tbody>\n",
       "</table>\n",
       "</div>"
      ],
      "text/plain": [
       "                    0        1       2       3\n",
       "Sims_Streaks  42699.0  18399.0  7909.0  3414.0"
      ]
     },
     "execution_count": 340,
     "metadata": {},
     "output_type": "execute_result"
    }
   ],
   "source": [
    "sims_streak_sum = pd.DataFrame(sims_df.iloc[:,0:4].sum(), columns=[\"Sims_Streaks\"]).T\n",
    "sims_streak_sum"
   ]
  },
  {
   "cell_type": "code",
   "execution_count": 344,
   "metadata": {},
   "outputs": [
    {
     "data": {
      "text/html": [
       "<div>\n",
       "<style scoped>\n",
       "    .dataframe tbody tr th:only-of-type {\n",
       "        vertical-align: middle;\n",
       "    }\n",
       "\n",
       "    .dataframe tbody tr th {\n",
       "        vertical-align: top;\n",
       "    }\n",
       "\n",
       "    .dataframe thead th {\n",
       "        text-align: right;\n",
       "    }\n",
       "</style>\n",
       "<table border=\"1\" class=\"dataframe\">\n",
       "  <thead>\n",
       "    <tr style=\"text-align: right;\">\n",
       "      <th></th>\n",
       "      <th>0</th>\n",
       "      <th>1</th>\n",
       "      <th>2</th>\n",
       "      <th>3</th>\n",
       "    </tr>\n",
       "  </thead>\n",
       "  <tbody>\n",
       "    <tr>\n",
       "      <th>Kobe_Streaks</th>\n",
       "      <td>39</td>\n",
       "      <td>23</td>\n",
       "      <td>6</td>\n",
       "      <td>6</td>\n",
       "    </tr>\n",
       "  </tbody>\n",
       "</table>\n",
       "</div>"
      ],
      "text/plain": [
       "               0   1  2  3\n",
       "Kobe_Streaks  39  23  6  6"
      ]
     },
     "execution_count": 344,
     "metadata": {},
     "output_type": "execute_result"
    }
   ],
   "source": [
    "kobe_streak_summary.index=['Kobe_Streaks']\n",
    "kobe_streak_summary_t = kobe_streak_summary.drop(columns=[4])\n",
    "kobe_streak_summary_t"
   ]
  },
  {
   "cell_type": "code",
   "execution_count": 345,
   "metadata": {},
   "outputs": [
    {
     "data": {
      "text/html": [
       "<div>\n",
       "<style scoped>\n",
       "    .dataframe tbody tr th:only-of-type {\n",
       "        vertical-align: middle;\n",
       "    }\n",
       "\n",
       "    .dataframe tbody tr th {\n",
       "        vertical-align: top;\n",
       "    }\n",
       "\n",
       "    .dataframe thead th {\n",
       "        text-align: right;\n",
       "    }\n",
       "</style>\n",
       "<table border=\"1\" class=\"dataframe\">\n",
       "  <thead>\n",
       "    <tr style=\"text-align: right;\">\n",
       "      <th></th>\n",
       "      <th>0</th>\n",
       "      <th>1</th>\n",
       "      <th>2</th>\n",
       "      <th>3</th>\n",
       "    </tr>\n",
       "  </thead>\n",
       "  <tbody>\n",
       "    <tr>\n",
       "      <th>Sims_Streaks</th>\n",
       "      <td>42699.0</td>\n",
       "      <td>18399.0</td>\n",
       "      <td>7909.0</td>\n",
       "      <td>3414.0</td>\n",
       "    </tr>\n",
       "    <tr>\n",
       "      <th>Kobe_Streaks</th>\n",
       "      <td>39.0</td>\n",
       "      <td>23.0</td>\n",
       "      <td>6.0</td>\n",
       "      <td>6.0</td>\n",
       "    </tr>\n",
       "  </tbody>\n",
       "</table>\n",
       "</div>"
      ],
      "text/plain": [
       "                    0        1       2       3\n",
       "Sims_Streaks  42699.0  18399.0  7909.0  3414.0\n",
       "Kobe_Streaks     39.0     23.0     6.0     6.0"
      ]
     },
     "execution_count": 345,
     "metadata": {},
     "output_type": "execute_result"
    }
   ],
   "source": [
    "chi_table = pd.concat([sims_streak_sum,kobe_streak_summary_t], axis=0)\n",
    "chi_table"
   ]
  },
  {
   "cell_type": "code",
   "execution_count": 346,
   "metadata": {},
   "outputs": [],
   "source": [
    "def apply_chi(prob, c_table):\n",
    "\n",
    "    stat, p, dof, expected = chi2_contingency(c_table)\n",
    "    print(\" Calculated Statistic: \",stat,\n",
    "      \"\\n P-value: \", p,\n",
    "     \"\\n Degrees of Freedom: \", dof)\n",
    "    \n",
    "    critical = chi2.ppf(prob, dof)\n",
    "    alpha = 1.0 - prob\n",
    "    print(\"======================\\n\")\n",
    "    print(\"1. Is the observed statistic (\", round(stat,2),\") greater than the chi-test critical value (\",round(critical,2),\") ? \\n\")\n",
    "\n",
    "    if abs(stat) >= critical:\n",
    "        print('Dependent (reject H0)')\n",
    "    else:\n",
    "        print('     No. We fail to reject H0. \\n')\n",
    "        \n",
    "    \n",
    "    print(\"2. Is the p-value (\", round(p,2),\") less than our significance level of (\",round(alpha,2),\") ? \\n\")\n",
    "\n",
    "    if p <= alpha:\n",
    "        print('Dependent (reject H0)')\n",
    "    else:\n",
    "        print('     No. We fail to reject H0.')"
   ]
  },
  {
   "cell_type": "code",
   "execution_count": 347,
   "metadata": {},
   "outputs": [
    {
     "name": "stdout",
     "output_type": "stream",
     "text": [
      " Calculated Statistic:  3.7686897642849666 \n",
      " P-value:  0.2875491018300517 \n",
      " Degrees of Freedom:  3\n",
      "======================\n",
      "\n",
      "1. Is the observed statistic ( 3.77 ) greater than the chi-test critical value ( 7.81 ) ? \n",
      "\n",
      "     No. We fail to reject H0. \n",
      "\n",
      "2. Is the p-value ( 0.29 ) less than our significance level of ( 0.05 ) ? \n",
      "\n",
      "     No. We fail to reject H0.\n"
     ]
    }
   ],
   "source": [
    "#when comparing all streaks from 0 to 4-shot streaks\n",
    "apply_chi(0.95, chi_table)"
   ]
  },
  {
   "cell_type": "markdown",
   "metadata": {},
   "source": [
    "#### Fisher Exact Test"
   ]
  },
  {
   "cell_type": "markdown",
   "metadata": {},
   "source": [
    "In this case, we fail to reject the $H_0$."
   ]
  },
  {
   "cell_type": "code",
   "execution_count": 337,
   "metadata": {},
   "outputs": [
    {
     "name": "stdout",
     "output_type": "stream",
     "text": [
      "Fisher Exact Test, p-value:  0.20348157339384165\n"
     ]
    },
    {
     "data": {
      "text/html": [
       "<div>\n",
       "<style scoped>\n",
       "    .dataframe tbody tr th:only-of-type {\n",
       "        vertical-align: middle;\n",
       "    }\n",
       "\n",
       "    .dataframe tbody tr th {\n",
       "        vertical-align: top;\n",
       "    }\n",
       "\n",
       "    .dataframe thead th {\n",
       "        text-align: right;\n",
       "    }\n",
       "</style>\n",
       "<table border=\"1\" class=\"dataframe\">\n",
       "  <thead>\n",
       "    <tr style=\"text-align: right;\">\n",
       "      <th></th>\n",
       "      <th>2</th>\n",
       "      <th>3</th>\n",
       "    </tr>\n",
       "  </thead>\n",
       "  <tbody>\n",
       "    <tr>\n",
       "      <th>Sims_Streaks</th>\n",
       "      <td>7909.0</td>\n",
       "      <td>3414.0</td>\n",
       "    </tr>\n",
       "    <tr>\n",
       "      <th>Kobe_Streaks</th>\n",
       "      <td>6.0</td>\n",
       "      <td>6.0</td>\n",
       "    </tr>\n",
       "  </tbody>\n",
       "</table>\n",
       "</div>"
      ],
      "text/plain": [
       "                   2       3\n",
       "Sims_Streaks  7909.0  3414.0\n",
       "Kobe_Streaks     6.0     6.0"
      ]
     },
     "execution_count": 337,
     "metadata": {},
     "output_type": "execute_result"
    }
   ],
   "source": [
    "#2-shot streaks and 3-shot streaks\n",
    "ft2_3 = chi_table.drop(columns=[0,1,4])\n",
    "\n",
    "oddsratio, pvalue = stats.fisher_exact(ft2_3)\n",
    "print(\"Fisher Exact Test, p-value: \", pvalue)\n",
    "ft2_3"
   ]
  },
  {
   "cell_type": "markdown",
   "metadata": {},
   "source": [
    "## HMMs\n",
    "\n",
    "_** mostly a tbc section **_"
   ]
  },
  {
   "cell_type": "code",
   "execution_count": 54,
   "metadata": {},
   "outputs": [],
   "source": [
    "from collections import defaultdict\n",
    "from collections import Counter"
   ]
  },
  {
   "cell_type": "code",
   "execution_count": 55,
   "metadata": {},
   "outputs": [
    {
     "data": {
      "text/plain": [
       "'HMMHHMMMMHHHMHHMMHHHMMHMHHHMMMMMMHMHMMHHHHMHMMHMMHMMHMHHMMHMHHMHMMMHMMMMHMHMMHMMHHMMMMHHHMMHMMHMHHMHMMHMMMHMHHHMHHHMHMHMMMMMMHMHMMMMH'"
      ]
     },
     "execution_count": 55,
     "metadata": {},
     "output_type": "execute_result"
    }
   ],
   "source": [
    "corpus = list(data.shot)\n",
    "corpus = ''.join(corpus)\n",
    "corpus"
   ]
  },
  {
   "cell_type": "code",
   "execution_count": 56,
   "metadata": {},
   "outputs": [
    {
     "data": {
      "text/plain": [
       "defaultdict(collections.Counter,\n",
       "            {'H': Counter({'H': 22, 'M': 36}),\n",
       "             'M': Counter({'H': 36, 'M': 39})})"
      ]
     },
     "execution_count": 56,
     "metadata": {},
     "output_type": "execute_result"
    }
   ],
   "source": [
    "n = 1\n",
    "circ_corpus = corpus + corpus[:n]\n",
    "frequencies = defaultdict(Counter)\n",
    "for i in range(len(circ_corpus) - n):\n",
    "    frequencies[circ_corpus[i:i + n]][circ_corpus[i + n]] += 1\n",
    "frequencies"
   ]
  },
  {
   "cell_type": "code",
   "execution_count": 57,
   "metadata": {},
   "outputs": [
    {
     "data": {
      "text/html": [
       "<div>\n",
       "<style scoped>\n",
       "    .dataframe tbody tr th:only-of-type {\n",
       "        vertical-align: middle;\n",
       "    }\n",
       "\n",
       "    .dataframe tbody tr th {\n",
       "        vertical-align: top;\n",
       "    }\n",
       "\n",
       "    .dataframe thead th {\n",
       "        text-align: right;\n",
       "    }\n",
       "</style>\n",
       "<table border=\"1\" class=\"dataframe\">\n",
       "  <thead>\n",
       "    <tr style=\"text-align: right;\">\n",
       "      <th></th>\n",
       "      <th>Miss</th>\n",
       "      <th>Hit</th>\n",
       "    </tr>\n",
       "  </thead>\n",
       "  <tbody>\n",
       "    <tr>\n",
       "      <th>Miss</th>\n",
       "      <td>22</td>\n",
       "      <td>36</td>\n",
       "    </tr>\n",
       "    <tr>\n",
       "      <th>Hit</th>\n",
       "      <td>36</td>\n",
       "      <td>39</td>\n",
       "    </tr>\n",
       "  </tbody>\n",
       "</table>\n",
       "</div>"
      ],
      "text/plain": [
       "      Miss  Hit\n",
       "Miss    22   36\n",
       "Hit     36   39"
      ]
     },
     "execution_count": 57,
     "metadata": {},
     "output_type": "execute_result"
    }
   ],
   "source": [
    "ccm = pd.DataFrame(frequencies).fillna(0)\n",
    "ccm.columns = ['Miss', 'Hit']\n",
    "ccm.index =  ['Miss', 'Hit']\n",
    "ccm"
   ]
  },
  {
   "cell_type": "code",
   "execution_count": 58,
   "metadata": {},
   "outputs": [],
   "source": [
    "t_ccm = ccm.copy()"
   ]
  },
  {
   "cell_type": "code",
   "execution_count": 354,
   "metadata": {},
   "outputs": [
    {
     "data": {
      "text/html": [
       "<div>\n",
       "<style scoped>\n",
       "    .dataframe tbody tr th:only-of-type {\n",
       "        vertical-align: middle;\n",
       "    }\n",
       "\n",
       "    .dataframe tbody tr th {\n",
       "        vertical-align: top;\n",
       "    }\n",
       "\n",
       "    .dataframe thead th {\n",
       "        text-align: right;\n",
       "    }\n",
       "</style>\n",
       "<table border=\"1\" class=\"dataframe\">\n",
       "  <thead>\n",
       "    <tr style=\"text-align: right;\">\n",
       "      <th></th>\n",
       "      <th>Miss</th>\n",
       "      <th>Hit</th>\n",
       "    </tr>\n",
       "  </thead>\n",
       "  <tbody>\n",
       "    <tr>\n",
       "      <th>Miss</th>\n",
       "      <td>0.37931</td>\n",
       "      <td>0.62069</td>\n",
       "    </tr>\n",
       "    <tr>\n",
       "      <th>Hit</th>\n",
       "      <td>0.48000</td>\n",
       "      <td>0.52000</td>\n",
       "    </tr>\n",
       "  </tbody>\n",
       "</table>\n",
       "</div>"
      ],
      "text/plain": [
       "         Miss      Hit\n",
       "Miss  0.37931  0.62069\n",
       "Hit   0.48000  0.52000"
      ]
     },
     "execution_count": 354,
     "metadata": {},
     "output_type": "execute_result"
    }
   ],
   "source": [
    "for j,i in enumerate(ccm.index):\n",
    "    #J row label\n",
    "    #I row index number\n",
    "    t_ccm.loc[i] = t_ccm.loc[i].divide(t_ccm.sum(axis=1)[j])\n",
    "t_ccm"
   ]
  },
  {
   "cell_type": "markdown",
   "metadata": {},
   "source": [
    "These are transition probabilities!"
   ]
  },
  {
   "cell_type": "code",
   "execution_count": 359,
   "metadata": {},
   "outputs": [
    {
     "data": {
      "text/plain": [
       "0.3500129634430905"
      ]
     },
     "execution_count": 359,
     "metadata": {},
     "output_type": "execute_result"
    }
   ],
   "source": [
    "prob_MH = (1-shots_made_avg) * t_ccm[\"Hit\"][0]\n",
    "prob_MH"
   ]
  },
  {
   "cell_type": "code",
   "execution_count": 361,
   "metadata": {},
   "outputs": [
    {
     "data": {
      "text/plain": [
       "0.2267669172932331"
      ]
     },
     "execution_count": 361,
     "metadata": {},
     "output_type": "execute_result"
    }
   ],
   "source": [
    "prob_HH = (shots_made_avg) * t_ccm[\"Hit\"][1]\n",
    "prob_HH"
   ]
  },
  {
   "cell_type": "code",
   "execution_count": 356,
   "metadata": {},
   "outputs": [
    {
     "data": {
      "text/plain": [
       "0.11791879699248121"
      ]
     },
     "execution_count": 356,
     "metadata": {},
     "output_type": "execute_result"
    }
   ],
   "source": [
    "prob_HHH = shots_made_avg * t_ccm[\"Hit\"][\"Hit\"] * t_ccm[\"Hit\"][\"Hit\"]\n",
    "prob_HHH"
   ]
  },
  {
   "cell_type": "code",
   "execution_count": 357,
   "metadata": {},
   "outputs": [
    {
     "data": {
      "text/plain": [
       "0.12992481203007517"
      ]
     },
     "execution_count": 357,
     "metadata": {},
     "output_type": "execute_result"
    }
   ],
   "source": [
    "prob_HMH = shots_made_avg * t_ccm[\"Hit\"][0] * t_ccm[\"Miss\"][1]\n",
    "prob_HMH"
   ]
  },
  {
   "cell_type": "code",
   "execution_count": 358,
   "metadata": {},
   "outputs": [
    {
     "data": {
      "text/plain": [
       "0.10267046927663986"
      ]
     },
     "execution_count": 358,
     "metadata": {},
     "output_type": "execute_result"
    }
   ],
   "source": [
    "prob_HMM = shots_made_avg * t_ccm[\"Hit\"][0] * t_ccm[\"Miss\"][0]\n",
    "prob_HMM"
   ]
  },
  {
   "cell_type": "code",
   "execution_count": 348,
   "metadata": {},
   "outputs": [
    {
     "data": {
      "text/html": [
       "<div>\n",
       "<style scoped>\n",
       "    .dataframe tbody tr th:only-of-type {\n",
       "        vertical-align: middle;\n",
       "    }\n",
       "\n",
       "    .dataframe tbody tr th {\n",
       "        vertical-align: top;\n",
       "    }\n",
       "\n",
       "    .dataframe thead th {\n",
       "        text-align: right;\n",
       "    }\n",
       "</style>\n",
       "<table border=\"1\" class=\"dataframe\">\n",
       "  <thead>\n",
       "    <tr style=\"text-align: right;\">\n",
       "      <th></th>\n",
       "      <th>Unnamed: 0</th>\n",
       "      <th>vs</th>\n",
       "      <th>game</th>\n",
       "      <th>quarter</th>\n",
       "      <th>time</th>\n",
       "      <th>description</th>\n",
       "      <th>shot</th>\n",
       "    </tr>\n",
       "  </thead>\n",
       "  <tbody>\n",
       "    <tr>\n",
       "      <th>0</th>\n",
       "      <td>1</td>\n",
       "      <td>ORL</td>\n",
       "      <td>1</td>\n",
       "      <td>1</td>\n",
       "      <td>9:47</td>\n",
       "      <td>Kobe Bryant makes 4-foot two point shot</td>\n",
       "      <td>H</td>\n",
       "    </tr>\n",
       "    <tr>\n",
       "      <th>1</th>\n",
       "      <td>2</td>\n",
       "      <td>ORL</td>\n",
       "      <td>1</td>\n",
       "      <td>1</td>\n",
       "      <td>9:07</td>\n",
       "      <td>Kobe Bryant misses jumper</td>\n",
       "      <td>M</td>\n",
       "    </tr>\n",
       "    <tr>\n",
       "      <th>2</th>\n",
       "      <td>3</td>\n",
       "      <td>ORL</td>\n",
       "      <td>1</td>\n",
       "      <td>1</td>\n",
       "      <td>8:11</td>\n",
       "      <td>Kobe Bryant misses 7-foot jumper</td>\n",
       "      <td>M</td>\n",
       "    </tr>\n",
       "    <tr>\n",
       "      <th>3</th>\n",
       "      <td>4</td>\n",
       "      <td>ORL</td>\n",
       "      <td>1</td>\n",
       "      <td>1</td>\n",
       "      <td>7:41</td>\n",
       "      <td>Kobe Bryant makes 16-foot jumper (Derek Fisher...</td>\n",
       "      <td>H</td>\n",
       "    </tr>\n",
       "    <tr>\n",
       "      <th>4</th>\n",
       "      <td>5</td>\n",
       "      <td>ORL</td>\n",
       "      <td>1</td>\n",
       "      <td>1</td>\n",
       "      <td>7:03</td>\n",
       "      <td>Kobe Bryant makes driving layup</td>\n",
       "      <td>H</td>\n",
       "    </tr>\n",
       "    <tr>\n",
       "      <th>5</th>\n",
       "      <td>6</td>\n",
       "      <td>ORL</td>\n",
       "      <td>1</td>\n",
       "      <td>1</td>\n",
       "      <td>6:01</td>\n",
       "      <td>Kobe Bryant misses jumper</td>\n",
       "      <td>M</td>\n",
       "    </tr>\n",
       "    <tr>\n",
       "      <th>6</th>\n",
       "      <td>7</td>\n",
       "      <td>ORL</td>\n",
       "      <td>1</td>\n",
       "      <td>1</td>\n",
       "      <td>4:07</td>\n",
       "      <td>Kobe Bryant misses 12-foot jumper</td>\n",
       "      <td>M</td>\n",
       "    </tr>\n",
       "    <tr>\n",
       "      <th>7</th>\n",
       "      <td>8</td>\n",
       "      <td>ORL</td>\n",
       "      <td>1</td>\n",
       "      <td>1</td>\n",
       "      <td>0:52</td>\n",
       "      <td>Kobe Bryant misses 19-foot jumper</td>\n",
       "      <td>M</td>\n",
       "    </tr>\n",
       "    <tr>\n",
       "      <th>8</th>\n",
       "      <td>9</td>\n",
       "      <td>ORL</td>\n",
       "      <td>1</td>\n",
       "      <td>1</td>\n",
       "      <td>0:00</td>\n",
       "      <td>Kobe Bryant misses layup</td>\n",
       "      <td>M</td>\n",
       "    </tr>\n",
       "    <tr>\n",
       "      <th>9</th>\n",
       "      <td>10</td>\n",
       "      <td>ORL</td>\n",
       "      <td>1</td>\n",
       "      <td>2</td>\n",
       "      <td>6:35</td>\n",
       "      <td>Kobe Bryant makes jumper</td>\n",
       "      <td>H</td>\n",
       "    </tr>\n",
       "    <tr>\n",
       "      <th>10</th>\n",
       "      <td>11</td>\n",
       "      <td>ORL</td>\n",
       "      <td>1</td>\n",
       "      <td>2</td>\n",
       "      <td>5:58</td>\n",
       "      <td>Kobe Bryant makes 20-foot jumper</td>\n",
       "      <td>H</td>\n",
       "    </tr>\n",
       "    <tr>\n",
       "      <th>11</th>\n",
       "      <td>12</td>\n",
       "      <td>ORL</td>\n",
       "      <td>1</td>\n",
       "      <td>2</td>\n",
       "      <td>5:22</td>\n",
       "      <td>Kobe Bryant makes 14-foot jumper</td>\n",
       "      <td>H</td>\n",
       "    </tr>\n",
       "    <tr>\n",
       "      <th>12</th>\n",
       "      <td>13</td>\n",
       "      <td>ORL</td>\n",
       "      <td>1</td>\n",
       "      <td>2</td>\n",
       "      <td>4:37</td>\n",
       "      <td>Kobe Bryant misses driving layup</td>\n",
       "      <td>M</td>\n",
       "    </tr>\n",
       "    <tr>\n",
       "      <th>13</th>\n",
       "      <td>14</td>\n",
       "      <td>ORL</td>\n",
       "      <td>1</td>\n",
       "      <td>2</td>\n",
       "      <td>3:30</td>\n",
       "      <td>Kobe Bryant makes 9-foot two point shot</td>\n",
       "      <td>H</td>\n",
       "    </tr>\n",
       "    <tr>\n",
       "      <th>14</th>\n",
       "      <td>15</td>\n",
       "      <td>ORL</td>\n",
       "      <td>1</td>\n",
       "      <td>2</td>\n",
       "      <td>2:55</td>\n",
       "      <td>Kobe Bryant makes 14-foot running jumper</td>\n",
       "      <td>H</td>\n",
       "    </tr>\n",
       "  </tbody>\n",
       "</table>\n",
       "</div>"
      ],
      "text/plain": [
       "    Unnamed: 0   vs  game quarter  time  \\\n",
       "0            1  ORL     1       1  9:47   \n",
       "1            2  ORL     1       1  9:07   \n",
       "2            3  ORL     1       1  8:11   \n",
       "3            4  ORL     1       1  7:41   \n",
       "4            5  ORL     1       1  7:03   \n",
       "5            6  ORL     1       1  6:01   \n",
       "6            7  ORL     1       1  4:07   \n",
       "7            8  ORL     1       1  0:52   \n",
       "8            9  ORL     1       1  0:00   \n",
       "9           10  ORL     1       2  6:35   \n",
       "10          11  ORL     1       2  5:58   \n",
       "11          12  ORL     1       2  5:22   \n",
       "12          13  ORL     1       2  4:37   \n",
       "13          14  ORL     1       2  3:30   \n",
       "14          15  ORL     1       2  2:55   \n",
       "\n",
       "                                          description shot  \n",
       "0             Kobe Bryant makes 4-foot two point shot    H  \n",
       "1                           Kobe Bryant misses jumper    M  \n",
       "2                    Kobe Bryant misses 7-foot jumper    M  \n",
       "3   Kobe Bryant makes 16-foot jumper (Derek Fisher...    H  \n",
       "4                     Kobe Bryant makes driving layup    H  \n",
       "5                           Kobe Bryant misses jumper    M  \n",
       "6                   Kobe Bryant misses 12-foot jumper    M  \n",
       "7                   Kobe Bryant misses 19-foot jumper    M  \n",
       "8                            Kobe Bryant misses layup    M  \n",
       "9                            Kobe Bryant makes jumper    H  \n",
       "10                   Kobe Bryant makes 20-foot jumper    H  \n",
       "11                   Kobe Bryant makes 14-foot jumper    H  \n",
       "12                   Kobe Bryant misses driving layup    M  \n",
       "13            Kobe Bryant makes 9-foot two point shot    H  \n",
       "14           Kobe Bryant makes 14-foot running jumper    H  "
      ]
     },
     "execution_count": 348,
     "metadata": {},
     "output_type": "execute_result"
    }
   ],
   "source": [
    "data.head(15)"
   ]
  },
  {
   "cell_type": "code",
   "execution_count": null,
   "metadata": {},
   "outputs": [],
   "source": []
  }
 ],
 "metadata": {
  "kernelspec": {
   "display_name": "Python 3",
   "language": "python",
   "name": "python3"
  },
  "language_info": {
   "codemirror_mode": {
    "name": "ipython",
    "version": 3
   },
   "file_extension": ".py",
   "mimetype": "text/x-python",
   "name": "python",
   "nbconvert_exporter": "python",
   "pygments_lexer": "ipython3",
   "version": "3.6.8"
  }
 },
 "nbformat": 4,
 "nbformat_minor": 2
}
